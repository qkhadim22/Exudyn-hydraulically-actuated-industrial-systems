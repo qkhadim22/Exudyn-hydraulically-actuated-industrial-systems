{
  "nbformat": 4,
  "nbformat_minor": 0,
  "metadata": {
    "colab": {
      "provenance": [],
      "gpuType": "T4",
      "authorship_tag": "ABX9TyPdABJDH+NMxu/fAs8TMgK1",
      "include_colab_link": true
    },
    "kernelspec": {
      "name": "python3",
      "display_name": "Python 3"
    },
    "language_info": {
      "name": "python"
    },
    "accelerator": "GPU"
  },
  "cells": [
    {
      "cell_type": "markdown",
      "metadata": {
        "id": "view-in-github",
        "colab_type": "text"
      },
      "source": [
        "<a href=\"https://colab.research.google.com/github/qkhadim22/PatuCrane_Exudyn/blob/main/MainScript_NN.ipynb\" target=\"_parent\"><img src=\"https://colab.research.google.com/assets/colab-badge.svg\" alt=\"Open In Colab\"/></a>"
      ]
    },
    {
      "cell_type": "markdown",
      "source": [
        "#Step 1: Import necessary libraries\n"
      ],
      "metadata": {
        "id": "7tNdN_rb1ZtW"
      }
    },
    {
      "cell_type": "code",
      "source": [
        "import tensorflow as tf\n",
        "from tensorflow import keras\n",
        "import pandas as pd\n",
        "import numpy as np\n",
        "import os\n",
        "import matplotlib.pyplot as plt\n",
        "import random\n",
        "import csv\n",
        "\n"
      ],
      "metadata": {
        "id": "b2Xs3J2k1fDd"
      },
      "execution_count": 6,
      "outputs": []
    },
    {
      "cell_type": "markdown",
      "source": [
        "Step 1.1: Path to saving and loading FF_NN model data."
      ],
      "metadata": {
        "id": "b6XAeO9n1vi4"
      }
    },
    {
      "cell_type": "code",
      "source": [
        "from google.colab import drive\n",
        "\n",
        "LiftFlexible = True\n",
        "PatuFlexible = False\n",
        "LoadSaved_NN = False\n",
        "\n",
        "\n",
        "if LiftFlexible:\n",
        "    # Path to NN model\n",
        "    keras_model_path  = '/content/PatuCrane_Exudyn/ExData'\n",
        "    SimData           = np.genfromtxt('/content/PatuCrane_Exudyn/ExData/LiftFlexible/LiftBoomData.csv',\n",
        "                                      delimiter=\",\",dtype=np.float32)\n",
        "\n",
        "elif PatuFlexible:\n",
        "    # Path to NN model\n",
        "    keras_model_path  = '/content/PatuCrane_Exudyn/ExData/NN_Data/PatuFlexible_NN'\n",
        "    SimData           = np.genfromtxt('ExData/LiftFlexible/PatuFlexible.csv',\n",
        "                                      delimiter=\",\",dtype=np.float32)\n",
        "\n",
        "else:\n",
        "    # Path to NN model\n",
        "    keras_model_path  = '/content/PatuCrane_Exudyn/ExData/NN_Data/PatuRigid_NN'\n",
        "    SimData           = np.genfromtxt('ExData/LiftFlexible/PatuRigid.csv',\n",
        "                                      delimiter=\",\",dtype=np.float32)\n"
      ],
      "metadata": {
        "colab": {
          "base_uri": "https://localhost:8080/",
          "height": 381
        },
        "id": "ckLYu6nK118l",
        "outputId": "9966d279-8c1a-467a-a79c-fe6af17904a1"
      },
      "execution_count": 7,
      "outputs": [
        {
          "output_type": "error",
          "ename": "FileNotFoundError",
          "evalue": "ignored",
          "traceback": [
            "\u001b[0;31m---------------------------------------------------------------------------\u001b[0m",
            "\u001b[0;31mFileNotFoundError\u001b[0m                         Traceback (most recent call last)",
            "\u001b[0;32m<ipython-input-7-4fa583b9ea3b>\u001b[0m in \u001b[0;36m<cell line: 8>\u001b[0;34m()\u001b[0m\n\u001b[1;32m      9\u001b[0m     \u001b[0;31m# Path to NN model\u001b[0m\u001b[0;34m\u001b[0m\u001b[0;34m\u001b[0m\u001b[0m\n\u001b[1;32m     10\u001b[0m     \u001b[0mkeras_model_path\u001b[0m  \u001b[0;34m=\u001b[0m \u001b[0;34m'/content/PatuCrane_Exudyn/ExData'\u001b[0m\u001b[0;34m\u001b[0m\u001b[0;34m\u001b[0m\u001b[0m\n\u001b[0;32m---> 11\u001b[0;31m     SimData           = np.genfromtxt('/content/PatuCrane_Exudyn/ExData/LiftFlexible/LiftBoomData.csv', \n\u001b[0m\u001b[1;32m     12\u001b[0m                                       delimiter=\",\",dtype=np.float32)\n\u001b[1;32m     13\u001b[0m \u001b[0;34m\u001b[0m\u001b[0m\n",
            "\u001b[0;32m/usr/local/lib/python3.10/dist-packages/numpy/lib/npyio.py\u001b[0m in \u001b[0;36mgenfromtxt\u001b[0;34m(fname, dtype, comments, delimiter, skip_header, skip_footer, converters, missing_values, filling_values, usecols, names, excludelist, deletechars, replace_space, autostrip, case_sensitive, defaultfmt, unpack, usemask, loose, invalid_raise, max_rows, encoding, like)\u001b[0m\n\u001b[1;32m   1811\u001b[0m             \u001b[0mfname\u001b[0m \u001b[0;34m=\u001b[0m \u001b[0mos_fspath\u001b[0m\u001b[0;34m(\u001b[0m\u001b[0mfname\u001b[0m\u001b[0;34m)\u001b[0m\u001b[0;34m\u001b[0m\u001b[0;34m\u001b[0m\u001b[0m\n\u001b[1;32m   1812\u001b[0m         \u001b[0;32mif\u001b[0m \u001b[0misinstance\u001b[0m\u001b[0;34m(\u001b[0m\u001b[0mfname\u001b[0m\u001b[0;34m,\u001b[0m \u001b[0mstr\u001b[0m\u001b[0;34m)\u001b[0m\u001b[0;34m:\u001b[0m\u001b[0;34m\u001b[0m\u001b[0;34m\u001b[0m\u001b[0m\n\u001b[0;32m-> 1813\u001b[0;31m             \u001b[0mfid\u001b[0m \u001b[0;34m=\u001b[0m \u001b[0mnp\u001b[0m\u001b[0;34m.\u001b[0m\u001b[0mlib\u001b[0m\u001b[0;34m.\u001b[0m\u001b[0m_datasource\u001b[0m\u001b[0;34m.\u001b[0m\u001b[0mopen\u001b[0m\u001b[0;34m(\u001b[0m\u001b[0mfname\u001b[0m\u001b[0;34m,\u001b[0m \u001b[0;34m'rt'\u001b[0m\u001b[0;34m,\u001b[0m \u001b[0mencoding\u001b[0m\u001b[0;34m=\u001b[0m\u001b[0mencoding\u001b[0m\u001b[0;34m)\u001b[0m\u001b[0;34m\u001b[0m\u001b[0;34m\u001b[0m\u001b[0m\n\u001b[0m\u001b[1;32m   1814\u001b[0m             \u001b[0mfid_ctx\u001b[0m \u001b[0;34m=\u001b[0m \u001b[0mcontextlib\u001b[0m\u001b[0;34m.\u001b[0m\u001b[0mclosing\u001b[0m\u001b[0;34m(\u001b[0m\u001b[0mfid\u001b[0m\u001b[0;34m)\u001b[0m\u001b[0;34m\u001b[0m\u001b[0;34m\u001b[0m\u001b[0m\n\u001b[1;32m   1815\u001b[0m         \u001b[0;32melse\u001b[0m\u001b[0;34m:\u001b[0m\u001b[0;34m\u001b[0m\u001b[0;34m\u001b[0m\u001b[0m\n",
            "\u001b[0;32m/usr/local/lib/python3.10/dist-packages/numpy/lib/_datasource.py\u001b[0m in \u001b[0;36mopen\u001b[0;34m(path, mode, destpath, encoding, newline)\u001b[0m\n\u001b[1;32m    191\u001b[0m \u001b[0;34m\u001b[0m\u001b[0m\n\u001b[1;32m    192\u001b[0m     \u001b[0mds\u001b[0m \u001b[0;34m=\u001b[0m \u001b[0mDataSource\u001b[0m\u001b[0;34m(\u001b[0m\u001b[0mdestpath\u001b[0m\u001b[0;34m)\u001b[0m\u001b[0;34m\u001b[0m\u001b[0;34m\u001b[0m\u001b[0m\n\u001b[0;32m--> 193\u001b[0;31m     \u001b[0;32mreturn\u001b[0m \u001b[0mds\u001b[0m\u001b[0;34m.\u001b[0m\u001b[0mopen\u001b[0m\u001b[0;34m(\u001b[0m\u001b[0mpath\u001b[0m\u001b[0;34m,\u001b[0m \u001b[0mmode\u001b[0m\u001b[0;34m,\u001b[0m \u001b[0mencoding\u001b[0m\u001b[0;34m=\u001b[0m\u001b[0mencoding\u001b[0m\u001b[0;34m,\u001b[0m \u001b[0mnewline\u001b[0m\u001b[0;34m=\u001b[0m\u001b[0mnewline\u001b[0m\u001b[0;34m)\u001b[0m\u001b[0;34m\u001b[0m\u001b[0;34m\u001b[0m\u001b[0m\n\u001b[0m\u001b[1;32m    194\u001b[0m \u001b[0;34m\u001b[0m\u001b[0m\n\u001b[1;32m    195\u001b[0m \u001b[0;34m\u001b[0m\u001b[0m\n",
            "\u001b[0;32m/usr/local/lib/python3.10/dist-packages/numpy/lib/_datasource.py\u001b[0m in \u001b[0;36mopen\u001b[0;34m(self, path, mode, encoding, newline)\u001b[0m\n\u001b[1;32m    530\u001b[0m                                       encoding=encoding, newline=newline)\n\u001b[1;32m    531\u001b[0m         \u001b[0;32melse\u001b[0m\u001b[0;34m:\u001b[0m\u001b[0;34m\u001b[0m\u001b[0;34m\u001b[0m\u001b[0m\n\u001b[0;32m--> 532\u001b[0;31m             \u001b[0;32mraise\u001b[0m \u001b[0mFileNotFoundError\u001b[0m\u001b[0;34m(\u001b[0m\u001b[0;34mf\"{path} not found.\"\u001b[0m\u001b[0;34m)\u001b[0m\u001b[0;34m\u001b[0m\u001b[0;34m\u001b[0m\u001b[0m\n\u001b[0m\u001b[1;32m    533\u001b[0m \u001b[0;34m\u001b[0m\u001b[0m\n\u001b[1;32m    534\u001b[0m \u001b[0;34m\u001b[0m\u001b[0m\n",
            "\u001b[0;31mFileNotFoundError\u001b[0m: /content/PatuCrane_Exudyn/ExData/LiftFlexible/LiftBoomData.csv not found."
          ]
        }
      ]
    },
    {
      "cell_type": "code",
      "source": [
        "from google.colab import drive\n",
        "drive.mount('/content/drive')"
      ],
      "metadata": {
        "id": "pb58TyLQM17r"
      },
      "execution_count": null,
      "outputs": []
    },
    {
      "cell_type": "markdown",
      "source": [
        "#Step 2: Loading and preparing the data"
      ],
      "metadata": {
        "id": "-Q1fjpo44U12"
      }
    },
    {
      "cell_type": "markdown",
      "source": [
        "Step 2.1: Load previous keras model or import new dataset, and split into train and test data"
      ],
      "metadata": {
        "id": "t1EqUZ9G4sQQ"
      }
    },
    {
      "cell_type": "code",
      "source": [
        "if LoadSaved_NN:\n",
        "  restored_keras_model = tf.keras.models.load_model(keras_model_path)\n",
        "else:\n",
        "  n_samples, n_features = SimData.shape\n",
        "  n_features           -= 1\n",
        "  X                     = SimData[:,0:n_features]\n",
        "  Y                     = SimData[:,n_features]\n",
        "\n",
        "  print('Shape of Lift Boom data =',SimData.shape)\n",
        "  print('Number of samples =',n_samples)\n",
        "  print('Number of features =',n_features)\n",
        "  print(X.shape, Y.shape)"
      ],
      "metadata": {
        "id": "Oh876S_f46I7"
      },
      "execution_count": null,
      "outputs": []
    },
    {
      "cell_type": "markdown",
      "source": [
        "Step 2.2: Splitting data into training and testing sets"
      ],
      "metadata": {
        "id": "nx6KrT_Q6Th9"
      }
    },
    {
      "cell_type": "code",
      "source": [
        "  from sklearn.model_selection import train_test_split\n",
        "  X_train, X_test, Y_train, Y_test = train_test_split(X, Y, test_size=0.2, random_state=6)\n",
        "  Y_train = Y_train.reshape(-1, 1)\n",
        "  Y_test = Y_test.reshape(-1, 1)\n",
        "  print('Length of training dataset=',len(X_train))\n",
        "  print('Length of testing dataset=',len(X_test))\n",
        "  print('Shape of testing dataset=',X_test.shape)"
      ],
      "metadata": {
        "colab": {
          "base_uri": "https://localhost:8080/"
        },
        "id": "I9NMbPL66dVN",
        "outputId": "313c8217-c1bb-46b7-80c1-008e6f832a64"
      },
      "execution_count": 28,
      "outputs": [
        {
          "output_type": "stream",
          "name": "stdout",
          "text": [
            "Length of training dataset= 1920\n",
            "Length of testing dataset= 481\n",
            "Shape of testing dataset= (481, 6)\n"
          ]
        }
      ]
    },
    {
      "cell_type": "markdown",
      "source": [
        "#Step 3: Create the model (Define the network architecture using keras)."
      ],
      "metadata": {
        "id": "tS2B7fxV63a9"
      }
    },
    {
      "cell_type": "code",
      "source": [
        " input_dim  = n_features\n",
        " output_dim = 1\n",
        " model      = tf.keras.Sequential([tf.keras.layers.Dense(6, activation='relu', input_shape=(input_dim,)),\n",
        "                                   tf.keras.layers.Dense(128, activation='relu'),\n",
        "                                   tf.keras.layers.Dense(64, activation='relu'),\n",
        "                                   tf.keras.layers.Dense(output_dim)])\n",
        " model.summary()"
      ],
      "metadata": {
        "id": "lsUNCjr-66tW"
      },
      "execution_count": null,
      "outputs": []
    },
    {
      "cell_type": "markdown",
      "source": [
        "#Step 4: Compiling and training the model (Train the model using sgd)."
      ],
      "metadata": {
        "id": "7VRlfScv7Th9"
      }
    },
    {
      "cell_type": "code",
      "source": [
        "  model.compile(optimizer=tf.keras.optimizers.Adam(learning_rate=0.06),\n",
        "              loss='mean_squared_error',\n",
        "              metrics=['accuracy'])\n",
        "\n",
        "  history=model.fit(X_train,Y_train,validation_data=(X_test,Y_test), epochs=10)"
      ],
      "metadata": {
        "colab": {
          "base_uri": "https://localhost:8080/",
          "height": 235
        },
        "id": "BE7I1Hvu7W2p",
        "outputId": "650b926f-0b63-457a-efeb-13911aa14809"
      },
      "execution_count": 2,
      "outputs": [
        {
          "output_type": "error",
          "ename": "NameError",
          "evalue": "ignored",
          "traceback": [
            "\u001b[0;31m---------------------------------------------------------------------------\u001b[0m",
            "\u001b[0;31mNameError\u001b[0m                                 Traceback (most recent call last)",
            "\u001b[0;32m<ipython-input-2-932455b46335>\u001b[0m in \u001b[0;36m<cell line: 1>\u001b[0;34m()\u001b[0m\n\u001b[0;32m----> 1\u001b[0;31m model.compile(optimizer=tf.keras.optimizers.Adam(learning_rate=0.06),\n\u001b[0m\u001b[1;32m      2\u001b[0m             \u001b[0mloss\u001b[0m\u001b[0;34m=\u001b[0m\u001b[0;34m'mean_squared_error'\u001b[0m\u001b[0;34m,\u001b[0m\u001b[0;34m\u001b[0m\u001b[0;34m\u001b[0m\u001b[0m\n\u001b[1;32m      3\u001b[0m             metrics=['accuracy'])\n\u001b[1;32m      4\u001b[0m \u001b[0;34m\u001b[0m\u001b[0m\n\u001b[1;32m      5\u001b[0m \u001b[0mhistory\u001b[0m\u001b[0;34m=\u001b[0m\u001b[0mmodel\u001b[0m\u001b[0;34m.\u001b[0m\u001b[0mfit\u001b[0m\u001b[0;34m(\u001b[0m\u001b[0mX_train\u001b[0m\u001b[0;34m,\u001b[0m\u001b[0mY_train\u001b[0m\u001b[0;34m,\u001b[0m\u001b[0mvalidation_data\u001b[0m\u001b[0;34m=\u001b[0m\u001b[0;34m(\u001b[0m\u001b[0mX_test\u001b[0m\u001b[0;34m,\u001b[0m\u001b[0mY_test\u001b[0m\u001b[0;34m)\u001b[0m\u001b[0;34m,\u001b[0m \u001b[0mepochs\u001b[0m\u001b[0;34m=\u001b[0m\u001b[0;36m10\u001b[0m\u001b[0;34m)\u001b[0m\u001b[0;34m\u001b[0m\u001b[0;34m\u001b[0m\u001b[0m\n",
            "\u001b[0;31mNameError\u001b[0m: name 'model' is not defined"
          ]
        }
      ]
    },
    {
      "cell_type": "markdown",
      "source": [
        "#Step 5: Evaluate the network and make predictions (Testing Performance)."
      ],
      "metadata": {
        "id": "yrh-fsf27r82"
      }
    },
    {
      "cell_type": "code",
      "source": [
        "test_loss, test_acc = model.evaluate(X_test,Y_test)\n",
        "print(\"Loss=%.3f\" %test_loss)\n",
        "print(\"Accuracy=%.3f\" %test_acc)\n",
        "\n",
        "n = random.randint(0,9999)\n",
        "plt.imshow(X_test[n])\n",
        "plt.show()\n",
        "\n",
        "predicted_value=model.predict(X_test)\n",
        "print(\"Handwritten number in the image is= %d\" %np.argmax(predicted_value[n]))"
      ],
      "metadata": {
        "id": "XHFD5d4T7wB6"
      },
      "execution_count": null,
      "outputs": []
    },
    {
      "cell_type": "markdown",
      "source": [
        "#Step 6: Training loss and accuracy."
      ],
      "metadata": {
        "id": "9leP87Md8Nct"
      }
    },
    {
      "cell_type": "code",
      "source": [
        "    history.history.keys()\n",
        "\n",
        "    #Figure 1\n",
        "    plt.plot(history.history['accuracy'])\n",
        "    plt.plot(history.history['val_accuracy'])\n",
        "    plt.title('Model Accuracy')\n",
        "    plt.ylabel('Accuracy')\n",
        "    plt.xlabel('Epoch')\n",
        "    plt.legend(['Train','Validation'],loc='upper left')\n",
        "    plt.show()\n",
        "\n",
        "\n",
        "    #Figure 2\n",
        "    plt.plot(history.history['loss'])\n",
        "    plt.plot(history.history['val_loss'])\n",
        "    plt.title('Model Loss')\n",
        "    plt.ylabel('Loss')\n",
        "    plt.xlabel('Epoch')\n",
        "    plt.legend(['Train','Validation'],loc='upper left')\n",
        "    plt.show()\n",
        "\n",
        "\n",
        "    #Figure 3\n",
        "    plt.plot(history.history['accuracy'])\n",
        "    plt.plot(history.history['val_accuracy'])\n",
        "    plt.plot(history.history['loss'])\n",
        "    plt.plot(history.history['val_loss'])\n",
        "    plt.title('Training Loss And Accuracy')\n",
        "    plt.ylabel('Accuracy/Loss')\n",
        "    plt.xlabel('Epoch')\n",
        "    plt.legend(['Accuracy','Val Accuracy','Loss','Val Loss'],loc='upper left')\n",
        "    plt.show()"
      ],
      "metadata": {
        "id": "C1mQ58HT8SNo"
      },
      "execution_count": null,
      "outputs": []
    },
    {
      "cell_type": "markdown",
      "source": [
        "#Step 7: Save model"
      ],
      "metadata": {
        "id": "6vUBxp1Y8fox"
      }
    },
    {
      "cell_type": "code",
      "source": [
        " model.save(keras_model_path)"
      ],
      "metadata": {
        "id": "rUdddMpm8igB"
      },
      "execution_count": 37,
      "outputs": []
    }
  ]
}